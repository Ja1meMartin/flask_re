{
 "cells": [
  {
   "cell_type": "code",
   "execution_count": 1,
   "metadata": {},
   "outputs": [],
   "source": [
    "import pandas as pd\n",
    "import json"
   ]
  },
  {
   "cell_type": "markdown",
   "metadata": {},
   "source": [
    "### Helper to convert colums to rows for creating Data Frame"
   ]
  },
  {
   "cell_type": "code",
   "execution_count": 2,
   "metadata": {},
   "outputs": [],
   "source": [
    "def T(rows_or_cols): return list(zip(*rows_or_cols))\n",
    "\n",
    "matrix = [\n",
    "    (1, 2, 3),\n",
    "    (4, 5, 6),\n",
    "]\n",
    "\n",
    "transpose = [\n",
    "    (1, 4),\n",
    "    (2, 5),\n",
    "    (3, 6),\n",
    "]\n",
    "\n",
    "assert T(matrix) == transpose\n",
    "assert T(T(matrix)) == matrix"
   ]
  },
  {
   "cell_type": "markdown",
   "metadata": {},
   "source": [
    "### Convert a period number to hour, minute tuple depending on number of intervals"
   ]
  },
  {
   "cell_type": "code",
   "execution_count": 3,
   "metadata": {},
   "outputs": [],
   "source": [
    "def period_to_hours_minutes(period, n_intervals=48):\n",
    "    # 1 -> 0, 30\n",
    "    # 2 -> 1, 0\n",
    "    # 48 -> 24, 0\n",
    "    assert 1 <= period <= period\n",
    "    assert int(period) == period\n",
    "    \n",
    "    minutes = (1440 / n_intervals)  * period\n",
    "    return int(minutes // 60), int(minutes % 60)\n",
    "    \n",
    "assert period_to_hours_minutes(1) == (0, 30)\n",
    "assert period_to_hours_minutes(2) == (1, 0)\n",
    "assert period_to_hours_minutes(3) == (1, 30)\n",
    "assert period_to_hours_minutes(48) == (24, 0)\n",
    "\n",
    "assert period_to_hours_minutes(1, 24) == (1, 0)\n",
    "assert period_to_hours_minutes(4, 12) == (8, 0)\n",
    "assert period_to_hours_minutes(24, 24) == (24, 0)\n",
    "assert period_to_hours_minutes(12, 12) == (24, 0)"
   ]
  },
  {
   "cell_type": "markdown",
   "metadata": {},
   "source": [
    "### Covert hours, minutes tuple to time"
   ]
  },
  {
   "cell_type": "code",
   "execution_count": 4,
   "metadata": {},
   "outputs": [],
   "source": [
    "def hours_minutes_to_time(hm):\n",
    "    # (hours, minutes) -> \"hours:minutes:00\"\n",
    "    # (0, 30) -> \"00:30:00\"\n",
    "    hours, minutes = hm\n",
    "    return f\"{hours:02}:{minutes:02}:00\"\n",
    "    \n",
    "assert hours_minutes_to_time((0, 30)) == '00:30:00'\n",
    "assert hours_minutes_to_time((5, 30)) == '05:30:00'\n",
    "assert hours_minutes_to_time((23, 0)) == '23:00:00'"
   ]
  },
  {
   "cell_type": "markdown",
   "metadata": {},
   "source": [
    "### Convert Period to time"
   ]
  },
  {
   "cell_type": "code",
   "execution_count": 5,
   "metadata": {},
   "outputs": [],
   "source": [
    "def period_to_time(period): \n",
    "    return hours_minutes_to_time(period_to_hours_minutes(period))\n",
    "\n",
    "assert period_to_time(1) == '00:30:00'\n",
    "assert period_to_time(11) == '05:30:00'\n",
    "assert period_to_time(48) == '24:00:00'"
   ]
  },
  {
   "cell_type": "markdown",
   "metadata": {},
   "source": [
    "### Validate date"
   ]
  },
  {
   "cell_type": "code",
   "execution_count": 6,
   "metadata": {},
   "outputs": [],
   "source": [
    "from datetime import timedelta, datetime\n",
    "\n",
    "MIN_DATE = datetime(2020, 1, 1)\n",
    "\n",
    "\n",
    "\n",
    "# Convenience method to get date from date time\n",
    "def S(dt): return str(dt.date())\n",
    "\n",
    "def AssertException(exc, f, *args, **kwargs):\n",
    "    try:\n",
    "        f(*args, **kwargs)\n",
    "    except exc:\n",
    "        return True\n",
    "    \n",
    "    return False\n",
    "\n",
    "\n",
    "def validate_date(d):\n",
    "    year, month, day = map(int, d.split(\"-\"))\n",
    "    date = datetime(year, month, day)\n",
    "    \n",
    "    if MIN_DATE - timedelta(days=1) >= date:\n",
    "        raise ValueError(f'We only accept dates from {MIN_DATE}. You asked for {date}')\n",
    "        \n",
    "    if date >= datetime.now():\n",
    "        raise ValueError(f'We do not accept future dates. You asked for {date}')\n",
    "        \n",
    "        \n",
    "    return date\n",
    "\n",
    "AE = AssertException\n",
    "    \n",
    "AE(ValueError, validate_date, \"2019-1-1\")\n",
    "AE(ValueError, validate_date, \"20\")\n",
    "AE(ValueError, validate_date, str(datetime.now().date() + timedelta(days=1)))\n",
    "\n",
    "start = datetime(2020, 1, 5)\n",
    "\n",
    "assert S(start) == \"2020-01-05\"\n",
    "assert validate_date(S(start)) == start\n"
   ]
  },
  {
   "cell_type": "markdown",
   "metadata": {},
   "source": [
    "### Get dates between 2 datetimes"
   ]
  },
  {
   "cell_type": "code",
   "execution_count": 7,
   "metadata": {},
   "outputs": [],
   "source": [
    "def get_dates_between(start, end=datetime.now()):\n",
    "    \n",
    "    while start <= end:\n",
    "        yield S(start)\n",
    "        start += timedelta(days=1)\n",
    "        \n",
    "assert len(list(get_dates_between(start))) >= 172\n",
    "\n",
    "end = datetime(2020, 1, 7)\n",
    "\n",
    "assert list(get_dates_between(start, end)) == ['2020-01-05', '2020-01-06', '2020-01-07']"
   ]
  },
  {
   "cell_type": "markdown",
   "metadata": {},
   "source": [
    "### Get dates between 2 dates in yyyy-mm--dd format"
   ]
  },
  {
   "cell_type": "code",
   "execution_count": 8,
   "metadata": {},
   "outputs": [],
   "source": [
    "def get_dates_from_strings(start, end=None):\n",
    "    \n",
    "    start = validate_date(start)\n",
    "    \n",
    "    if not end:\n",
    "        return get_dates_between(start)\n",
    "    \n",
    "    \n",
    "    end = validate_date(end)\n",
    "    \n",
    "    if start > end: \n",
    "        start, end = end, start\n",
    "        \n",
    "    return get_dates_between(start, end)\n",
    "\n",
    "assert list(get_dates_from_strings(S(start))) == list(get_dates_between(start))\n",
    "assert list(get_dates_from_strings(S(start), S(end))) ==  list(get_dates_between(start, end))"
   ]
  },
  {
   "cell_type": "markdown",
   "metadata": {},
   "source": [
    "### Create DF"
   ]
  },
  {
   "cell_type": "code",
   "execution_count": 9,
   "metadata": {},
   "outputs": [
    {
     "data": {
      "text/html": [
       "<div>\n",
       "<style scoped>\n",
       "    .dataframe tbody tr th:only-of-type {\n",
       "        vertical-align: middle;\n",
       "    }\n",
       "\n",
       "    .dataframe tbody tr th {\n",
       "        vertical-align: top;\n",
       "    }\n",
       "\n",
       "    .dataframe thead th {\n",
       "        text-align: right;\n",
       "    }\n",
       "</style>\n",
       "<table border=\"1\" class=\"dataframe\">\n",
       "  <thead>\n",
       "    <tr style=\"text-align: right;\">\n",
       "      <th></th>\n",
       "      <th>Date</th>\n",
       "      <th>Time</th>\n",
       "      <th>Period</th>\n",
       "    </tr>\n",
       "  </thead>\n",
       "  <tbody>\n",
       "    <tr>\n",
       "      <th>0</th>\n",
       "      <td>2020-01-05</td>\n",
       "      <td>00:30:00</td>\n",
       "      <td>1</td>\n",
       "    </tr>\n",
       "    <tr>\n",
       "      <th>1</th>\n",
       "      <td>2020-01-05</td>\n",
       "      <td>01:00:00</td>\n",
       "      <td>2</td>\n",
       "    </tr>\n",
       "    <tr>\n",
       "      <th>2</th>\n",
       "      <td>2020-01-05</td>\n",
       "      <td>01:30:00</td>\n",
       "      <td>3</td>\n",
       "    </tr>\n",
       "    <tr>\n",
       "      <th>3</th>\n",
       "      <td>2020-01-06</td>\n",
       "      <td>00:30:00</td>\n",
       "      <td>1</td>\n",
       "    </tr>\n",
       "    <tr>\n",
       "      <th>4</th>\n",
       "      <td>2020-01-06</td>\n",
       "      <td>01:00:00</td>\n",
       "      <td>2</td>\n",
       "    </tr>\n",
       "    <tr>\n",
       "      <th>5</th>\n",
       "      <td>2020-01-06</td>\n",
       "      <td>01:30:00</td>\n",
       "      <td>3</td>\n",
       "    </tr>\n",
       "    <tr>\n",
       "      <th>6</th>\n",
       "      <td>2020-01-07</td>\n",
       "      <td>00:30:00</td>\n",
       "      <td>1</td>\n",
       "    </tr>\n",
       "    <tr>\n",
       "      <th>7</th>\n",
       "      <td>2020-01-07</td>\n",
       "      <td>01:00:00</td>\n",
       "      <td>2</td>\n",
       "    </tr>\n",
       "    <tr>\n",
       "      <th>8</th>\n",
       "      <td>2020-01-07</td>\n",
       "      <td>01:30:00</td>\n",
       "      <td>3</td>\n",
       "    </tr>\n",
       "  </tbody>\n",
       "</table>\n",
       "</div>"
      ],
      "text/plain": [
       "         Date      Time  Period\n",
       "0  2020-01-05  00:30:00       1\n",
       "1  2020-01-05  01:00:00       2\n",
       "2  2020-01-05  01:30:00       3\n",
       "3  2020-01-06  00:30:00       1\n",
       "4  2020-01-06  01:00:00       2\n",
       "5  2020-01-06  01:30:00       3\n",
       "6  2020-01-07  00:30:00       1\n",
       "7  2020-01-07  01:00:00       2\n",
       "8  2020-01-07  01:30:00       3"
      ]
     },
     "execution_count": 9,
     "metadata": {},
     "output_type": "execute_result"
    }
   ],
   "source": [
    "_dates = list(get_dates_between(start, end))\n",
    "\n",
    "def generate_df(dates, period=48):\n",
    "\n",
    "    date, time, period = T(\n",
    "        [\n",
    "            (date, period_to_time(i), i)\n",
    "            for date in dates\n",
    "            for i in range(1, period+1)\n",
    "        ]\n",
    "    ) \n",
    "\n",
    "\n",
    "    return pd.DataFrame(data={\n",
    "        \"Date\": date,\n",
    "        \"Time\": time,\n",
    "        \"Period\": period,\n",
    "    })\n",
    "\n",
    "\n",
    "generate_df(_dates, 3)"
   ]
  },
  {
   "cell_type": "markdown",
   "metadata": {},
   "source": [
    "### Convert DF to list of dicts"
   ]
  },
  {
   "cell_type": "code",
   "execution_count": 10,
   "metadata": {},
   "outputs": [
    {
     "ename": "NameError",
     "evalue": "name 'df' is not defined",
     "output_type": "error",
     "traceback": [
      "\u001b[1;31m---------------------------------------------------------------------------\u001b[0m",
      "\u001b[1;31mNameError\u001b[0m                                 Traceback (most recent call last)",
      "\u001b[1;32m<ipython-input-10-009b274908a3>\u001b[0m in \u001b[0;36m<module>\u001b[1;34m\u001b[0m\n\u001b[0;32m     11\u001b[0m     \u001b[1;32mreturn\u001b[0m \u001b[0mdata\u001b[0m\u001b[1;33m\u001b[0m\u001b[1;33m\u001b[0m\u001b[0m\n\u001b[0;32m     12\u001b[0m \u001b[1;33m\u001b[0m\u001b[0m\n\u001b[1;32m---> 13\u001b[1;33m \u001b[0mdf_to_json\u001b[0m\u001b[1;33m(\u001b[0m\u001b[0mdf\u001b[0m\u001b[1;33m)\u001b[0m\u001b[1;33m\u001b[0m\u001b[1;33m\u001b[0m\u001b[0m\n\u001b[0m",
      "\u001b[1;31mNameError\u001b[0m: name 'df' is not defined"
     ]
    }
   ],
   "source": [
    "def df_to_json(df):\n",
    "    data = [\n",
    "        {\n",
    "            key: row[key]\n",
    "            for key in df\n",
    "        }\n",
    "\n",
    "        for _, row in df.iterrows()\n",
    "    ]\n",
    "    \n",
    "    return data\n",
    "\n",
    "df_to_json(df)"
   ]
  },
  {
   "cell_type": "code",
   "execution_count": null,
   "metadata": {},
   "outputs": [],
   "source": [
    "def get_json_from_strings(start, end=None, period=48):\n",
    "    \n",
    "    dates = get_dates_from_strings(start, end)\n",
    "    df = generate_df(dates, period)\n",
    "\n",
    "    return df_to_json(df)\n",
    "\n",
    "assert get_json_from_strings('2020-1-1', '2020-1-3', 4) == get_json_from_strings('2020-1-3', '2020-1-1', 4)\n",
    "\n",
    "get_json_from_strings('2020-1-1', '2020-1-3', 4)"
   ]
  },
  {
   "cell_type": "code",
   "execution_count": null,
   "metadata": {},
   "outputs": [],
   "source": [
    "get_json_from_strings('2020-1-1', period=4)"
   ]
  },
  {
   "cell_type": "markdown",
   "metadata": {},
   "source": [
    "### Pandas Solution"
   ]
  },
  {
   "cell_type": "code",
   "execution_count": null,
   "metadata": {},
   "outputs": [],
   "source": [
    "df = pd.DataFrame(data={\"Date\":_dates})\n",
    "df = pd.DataFrame(df.values.repeat(48, axis=0), columns=df.columns)\n",
    "df [\"Period\"] = (df.index % 48) + 1\n",
    "df ['Time'] = df.Period.apply(period_to_time)\n",
    "df[[\"Date\", \"Time\", \"Period\"]]"
   ]
  },
  {
   "cell_type": "code",
   "execution_count": null,
   "metadata": {},
   "outputs": [],
   "source": [
    "http://127.0.0.1:5000/from/2020-06 # malformed url\n",
    "http://127.0.0.1:5000/from/2020-06-11 # from date to today\n",
    "http://127.0.0.1:5000/from/2019-06-11 # too early\n",
    "http://127.0.0.1:5000/from/2021-06-11 # no future dates\n",
    "http://127.0.0.1:5000/from/2020-06-11/to/2020-06-13 # 2 dates\n",
    "http://127.0.0.1:5000/from/2020-06-13/to/2020-06-11 # also works with dates reversed"
   ]
  }
 ],
 "metadata": {
  "kernelspec": {
   "display_name": "Python 3",
   "language": "python",
   "name": "python3"
  },
  "language_info": {
   "codemirror_mode": {
    "name": "ipython",
    "version": 3
   },
   "file_extension": ".py",
   "mimetype": "text/x-python",
   "name": "python",
   "nbconvert_exporter": "python",
   "pygments_lexer": "ipython3",
   "version": "3.7.6"
  }
 },
 "nbformat": 4,
 "nbformat_minor": 4
}
